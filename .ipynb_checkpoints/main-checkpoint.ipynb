{
 "cells": [
  {
   "cell_type": "code",
   "execution_count": 29,
   "metadata": {},
   "outputs": [],
   "source": [
    "from tqdm import tqdm\n",
    "from copy import deepcopy\n",
    "\n",
    "import numpy as np\n",
    "import pandas as pd\n",
    "import matplotlib.pyplot as plt\n",
    "\n",
    "from sklearn.preprocessing import LabelEncoder, normalize\n",
    "from sklearn.feature_extraction import DictVectorizer\n",
    "from sklearn.cross_validation import cross_val_score\n",
    "from sklearn.metrics import median_absolute_error\n",
    "\n",
    "from sklearn.tree import DecisionTreeClassifier, export_graphviz\n",
    "from sklearn.ensemble import RandomForestClassifier, RandomForestRegressor\n",
    "from sklearn.linear_model import LogisticRegression, LinearRegression"
   ]
  },
  {
   "cell_type": "code",
   "execution_count": 2,
   "metadata": {},
   "outputs": [],
   "source": [
    "invoices = pd.read_csv('data/invoices.csv').set_index('invoice_id')\n",
    "scores = pd.read_csv('data/customers.csv').set_index('customer_id')"
   ]
  },
  {
   "cell_type": "code",
   "execution_count": 3,
   "metadata": {},
   "outputs": [],
   "source": [
    "data = invoices.merge(scores, left_on='customer_id', right_index=True, how='left', suffixes=['', '_cust'])\n",
    "data = data.sort_values(['created_at'], ascending=1)\n",
    "\n",
    "for col in ['created_at', 'due', 'last_payment_date', 'created_at_cust']:\n",
    "    data[col] = pd.to_datetime(data[col], errors='coerce')"
   ]
  },
  {
   "cell_type": "code",
   "execution_count": 4,
   "metadata": {},
   "outputs": [
    {
     "data": {
      "text/html": [
       "<div>\n",
       "<style>\n",
       "    .dataframe thead tr:only-child th {\n",
       "        text-align: right;\n",
       "    }\n",
       "\n",
       "    .dataframe thead th {\n",
       "        text-align: left;\n",
       "    }\n",
       "\n",
       "    .dataframe tbody tr th {\n",
       "        vertical-align: top;\n",
       "    }\n",
       "</style>\n",
       "<table border=\"1\" class=\"dataframe\">\n",
       "  <thead>\n",
       "    <tr style=\"text-align: right;\">\n",
       "      <th></th>\n",
       "      <th>customer_id</th>\n",
       "      <th>created_at</th>\n",
       "      <th>due</th>\n",
       "      <th>last_payment_date</th>\n",
       "      <th>paid_status</th>\n",
       "      <th>total</th>\n",
       "      <th>paid</th>\n",
       "      <th>tax</th>\n",
       "      <th>currency</th>\n",
       "      <th>exchange_rate</th>\n",
       "      <th>source_system</th>\n",
       "      <th>description</th>\n",
       "      <th>created_at_cust</th>\n",
       "      <th>score</th>\n",
       "    </tr>\n",
       "    <tr>\n",
       "      <th>invoice_id</th>\n",
       "      <th></th>\n",
       "      <th></th>\n",
       "      <th></th>\n",
       "      <th></th>\n",
       "      <th></th>\n",
       "      <th></th>\n",
       "      <th></th>\n",
       "      <th></th>\n",
       "      <th></th>\n",
       "      <th></th>\n",
       "      <th></th>\n",
       "      <th></th>\n",
       "      <th></th>\n",
       "      <th></th>\n",
       "    </tr>\n",
       "  </thead>\n",
       "  <tbody>\n",
       "    <tr>\n",
       "      <th>3012275</th>\n",
       "      <td>1857589</td>\n",
       "      <td>2016-01-04 10:14:02</td>\n",
       "      <td>2016-01-04</td>\n",
       "      <td>2016-01-21 00:00:00</td>\n",
       "      <td>PAID</td>\n",
       "      <td>399.00</td>\n",
       "      <td>399.00</td>\n",
       "      <td>0.0</td>\n",
       "      <td>USD</td>\n",
       "      <td>1.0</td>\n",
       "      <td>FTP</td>\n",
       "      <td>PDP Tier III - Premier Listing</td>\n",
       "      <td>2017-11-09 15:20:25</td>\n",
       "      <td>90</td>\n",
       "    </tr>\n",
       "    <tr>\n",
       "      <th>2998157</th>\n",
       "      <td>1857442</td>\n",
       "      <td>2016-01-06 08:02:41</td>\n",
       "      <td>2016-01-06</td>\n",
       "      <td>2016-01-06 00:00:00</td>\n",
       "      <td>PAID</td>\n",
       "      <td>-1255.18</td>\n",
       "      <td>-1255.18</td>\n",
       "      <td>NaN</td>\n",
       "      <td>USD</td>\n",
       "      <td>1.0</td>\n",
       "      <td>FTP</td>\n",
       "      <td>Adjustmnet</td>\n",
       "      <td>2017-11-09 15:20:25</td>\n",
       "      <td>0</td>\n",
       "    </tr>\n",
       "    <tr>\n",
       "      <th>2998720</th>\n",
       "      <td>1857442</td>\n",
       "      <td>2016-01-06 08:05:02</td>\n",
       "      <td>2016-01-06</td>\n",
       "      <td>2016-01-06 00:00:00</td>\n",
       "      <td>PAID</td>\n",
       "      <td>-627.60</td>\n",
       "      <td>-627.60</td>\n",
       "      <td>NaN</td>\n",
       "      <td>USD</td>\n",
       "      <td>1.0</td>\n",
       "      <td>FTP</td>\n",
       "      <td>Credit</td>\n",
       "      <td>2017-11-09 15:20:25</td>\n",
       "      <td>0</td>\n",
       "    </tr>\n",
       "    <tr>\n",
       "      <th>3001291</th>\n",
       "      <td>1857442</td>\n",
       "      <td>2016-01-06 08:24:03</td>\n",
       "      <td>2016-01-06</td>\n",
       "      <td>2016-01-06 00:00:00</td>\n",
       "      <td>PAID</td>\n",
       "      <td>-1255.18</td>\n",
       "      <td>-1255.18</td>\n",
       "      <td>NaN</td>\n",
       "      <td>USD</td>\n",
       "      <td>1.0</td>\n",
       "      <td>FTP</td>\n",
       "      <td>Nov Credit</td>\n",
       "      <td>2017-11-09 15:20:25</td>\n",
       "      <td>0</td>\n",
       "    </tr>\n",
       "    <tr>\n",
       "      <th>3074918</th>\n",
       "      <td>1857442</td>\n",
       "      <td>2016-01-06 08:24:54</td>\n",
       "      <td>2016-01-06</td>\n",
       "      <td>2016-01-06 00:00:00</td>\n",
       "      <td>PAID</td>\n",
       "      <td>-1255.18</td>\n",
       "      <td>-1255.18</td>\n",
       "      <td>NaN</td>\n",
       "      <td>USD</td>\n",
       "      <td>1.0</td>\n",
       "      <td>FTP</td>\n",
       "      <td>Dec Credit</td>\n",
       "      <td>2017-11-09 15:20:25</td>\n",
       "      <td>0</td>\n",
       "    </tr>\n",
       "    <tr>\n",
       "      <th>3066840</th>\n",
       "      <td>1857442</td>\n",
       "      <td>2016-01-06 08:27:32</td>\n",
       "      <td>2016-01-06</td>\n",
       "      <td>2016-01-06 00:00:00</td>\n",
       "      <td>PAID</td>\n",
       "      <td>-1255.18</td>\n",
       "      <td>-1255.18</td>\n",
       "      <td>NaN</td>\n",
       "      <td>USD</td>\n",
       "      <td>1.0</td>\n",
       "      <td>FTP</td>\n",
       "      <td>Credit for Nov Credit for Dec</td>\n",
       "      <td>2017-11-09 15:20:25</td>\n",
       "      <td>0</td>\n",
       "    </tr>\n",
       "    <tr>\n",
       "      <th>3011675</th>\n",
       "      <td>1851425</td>\n",
       "      <td>2016-01-06 09:00:58</td>\n",
       "      <td>2016-01-06</td>\n",
       "      <td>2016-01-06 00:00:00</td>\n",
       "      <td>PAID</td>\n",
       "      <td>-100.00</td>\n",
       "      <td>-100.00</td>\n",
       "      <td>NaN</td>\n",
       "      <td>USD</td>\n",
       "      <td>1.0</td>\n",
       "      <td>FTP</td>\n",
       "      <td>MyAppraise Trade-In Tool Credit</td>\n",
       "      <td>2017-11-09 15:20:25</td>\n",
       "      <td>3</td>\n",
       "    </tr>\n",
       "    <tr>\n",
       "      <th>3000032</th>\n",
       "      <td>1856508</td>\n",
       "      <td>2016-01-06 09:02:11</td>\n",
       "      <td>2016-01-06</td>\n",
       "      <td>2016-02-06 00:00:00</td>\n",
       "      <td>PAID</td>\n",
       "      <td>-100.00</td>\n",
       "      <td>-100.00</td>\n",
       "      <td>NaN</td>\n",
       "      <td>USD</td>\n",
       "      <td>1.0</td>\n",
       "      <td>FTP</td>\n",
       "      <td>MyAppraise Trade-In Tool Credit</td>\n",
       "      <td>2017-11-09 15:20:25</td>\n",
       "      <td>14</td>\n",
       "    </tr>\n",
       "    <tr>\n",
       "      <th>3080104</th>\n",
       "      <td>1852700</td>\n",
       "      <td>2016-01-06 09:04:18</td>\n",
       "      <td>2016-01-06</td>\n",
       "      <td>2016-01-06 09:04:18</td>\n",
       "      <td>UNPAID</td>\n",
       "      <td>-100.00</td>\n",
       "      <td>0.00</td>\n",
       "      <td>NaN</td>\n",
       "      <td>USD</td>\n",
       "      <td>1.0</td>\n",
       "      <td>FTP</td>\n",
       "      <td>MyAppraise Trade-In Tool Credit</td>\n",
       "      <td>2017-11-09 15:20:25</td>\n",
       "      <td>90</td>\n",
       "    </tr>\n",
       "    <tr>\n",
       "      <th>3062900</th>\n",
       "      <td>1852687</td>\n",
       "      <td>2016-01-06 09:05:23</td>\n",
       "      <td>2016-01-06</td>\n",
       "      <td>2016-01-06 00:00:00</td>\n",
       "      <td>PAID</td>\n",
       "      <td>-100.00</td>\n",
       "      <td>-100.00</td>\n",
       "      <td>NaN</td>\n",
       "      <td>USD</td>\n",
       "      <td>1.0</td>\n",
       "      <td>FTP</td>\n",
       "      <td>MyAppraise Trade-In Tool Credit</td>\n",
       "      <td>2017-11-09 15:20:25</td>\n",
       "      <td>0</td>\n",
       "    </tr>\n",
       "  </tbody>\n",
       "</table>\n",
       "</div>"
      ],
      "text/plain": [
       "            customer_id          created_at        due   last_payment_date  \\\n",
       "invoice_id                                                                   \n",
       "3012275         1857589 2016-01-04 10:14:02 2016-01-04 2016-01-21 00:00:00   \n",
       "2998157         1857442 2016-01-06 08:02:41 2016-01-06 2016-01-06 00:00:00   \n",
       "2998720         1857442 2016-01-06 08:05:02 2016-01-06 2016-01-06 00:00:00   \n",
       "3001291         1857442 2016-01-06 08:24:03 2016-01-06 2016-01-06 00:00:00   \n",
       "3074918         1857442 2016-01-06 08:24:54 2016-01-06 2016-01-06 00:00:00   \n",
       "3066840         1857442 2016-01-06 08:27:32 2016-01-06 2016-01-06 00:00:00   \n",
       "3011675         1851425 2016-01-06 09:00:58 2016-01-06 2016-01-06 00:00:00   \n",
       "3000032         1856508 2016-01-06 09:02:11 2016-01-06 2016-02-06 00:00:00   \n",
       "3080104         1852700 2016-01-06 09:04:18 2016-01-06 2016-01-06 09:04:18   \n",
       "3062900         1852687 2016-01-06 09:05:23 2016-01-06 2016-01-06 00:00:00   \n",
       "\n",
       "           paid_status    total     paid  tax currency  exchange_rate  \\\n",
       "invoice_id                                                              \n",
       "3012275           PAID   399.00   399.00  0.0      USD            1.0   \n",
       "2998157           PAID -1255.18 -1255.18  NaN      USD            1.0   \n",
       "2998720           PAID  -627.60  -627.60  NaN      USD            1.0   \n",
       "3001291           PAID -1255.18 -1255.18  NaN      USD            1.0   \n",
       "3074918           PAID -1255.18 -1255.18  NaN      USD            1.0   \n",
       "3066840           PAID -1255.18 -1255.18  NaN      USD            1.0   \n",
       "3011675           PAID  -100.00  -100.00  NaN      USD            1.0   \n",
       "3000032           PAID  -100.00  -100.00  NaN      USD            1.0   \n",
       "3080104         UNPAID  -100.00     0.00  NaN      USD            1.0   \n",
       "3062900           PAID  -100.00  -100.00  NaN      USD            1.0   \n",
       "\n",
       "           source_system                      description     created_at_cust  \\\n",
       "invoice_id                                                                      \n",
       "3012275              FTP   PDP Tier III - Premier Listing 2017-11-09 15:20:25   \n",
       "2998157              FTP                       Adjustmnet 2017-11-09 15:20:25   \n",
       "2998720              FTP                           Credit 2017-11-09 15:20:25   \n",
       "3001291              FTP                       Nov Credit 2017-11-09 15:20:25   \n",
       "3074918              FTP                       Dec Credit 2017-11-09 15:20:25   \n",
       "3066840              FTP    Credit for Nov Credit for Dec 2017-11-09 15:20:25   \n",
       "3011675              FTP  MyAppraise Trade-In Tool Credit 2017-11-09 15:20:25   \n",
       "3000032              FTP  MyAppraise Trade-In Tool Credit 2017-11-09 15:20:25   \n",
       "3080104              FTP  MyAppraise Trade-In Tool Credit 2017-11-09 15:20:25   \n",
       "3062900              FTP  MyAppraise Trade-In Tool Credit 2017-11-09 15:20:25   \n",
       "\n",
       "            score  \n",
       "invoice_id         \n",
       "3012275        90  \n",
       "2998157         0  \n",
       "2998720         0  \n",
       "3001291         0  \n",
       "3074918         0  \n",
       "3066840         0  \n",
       "3011675         3  \n",
       "3000032        14  \n",
       "3080104        90  \n",
       "3062900         0  "
      ]
     },
     "execution_count": 4,
     "metadata": {},
     "output_type": "execute_result"
    }
   ],
   "source": [
    "data.head(10)"
   ]
  },
  {
   "cell_type": "markdown",
   "metadata": {},
   "source": [
    "### ML models\n",
    "1. classify whether the overdue will come\n",
    "2. if overdue - predict overdue duration (regression)"
   ]
  },
  {
   "cell_type": "markdown",
   "metadata": {},
   "source": [
    "### List of features"
   ]
  },
  {
   "cell_type": "code",
   "execution_count": 4,
   "metadata": {},
   "outputs": [],
   "source": [
    "features_funcs = {\n",
    "    # single row features\n",
    "    'days_diff_created_due_date'        : lambda x: (x['created_at'] - x['due']).astype('timedelta64[D]').iloc[-1],\n",
    "    \n",
    "    # ratio feature\n",
    "    'ratio_required_total_to_mean_total': lambda x: x['total'].iloc[-1] / (np.mean(x['total'].iloc[:-1]) + 1e-3),\n",
    "    'ratio_days_diff_created_due_date'  : lambda x: (x['created_at'] - x['due']).astype('timedelta64[D]').iloc[-1] / \\\n",
    "                    (np.mean((x['created_at'].iloc[:-1] - x['due'].iloc[:-1]).astype('timedelta64[D]')) + 1e-3),\n",
    "    'mean_ratio_total_paid'             : lambda x: np.mean(x['total'].iloc[:-1] / (x['paid'].iloc[:-1] + 1e-3)),\n",
    "    \n",
    "    # aggregated feature\n",
    "    'number_unpaids'                    : lambda x: np.sum(x['paid_status'].iloc[:-1] == 'UNPAID'),\n",
    "    'number_paids'                      : lambda x: np.sum(x['paid_status'].iloc[:-1] == 'PAID'),\n",
    "    'number_partialpaids'               : lambda x: np.sum(x['paid_status'].iloc[:-1] == 'PARTIALPAID'),\n",
    "    'ratio_paids_to_unpaids'            : lambda x: np.sum(x['paid_status'].iloc[:-1] == 'PAID') / (np.sum(x['paid_status'] == 'UNPAID') + 1e-3),\n",
    "    'is_unpaids'                        : lambda x: np.sum(x['paid_status'].iloc[:-1] == 'UNPAID') > 0,\n",
    "    'is_partial_paids'                  : lambda x: np.sum(x['paid_status'].iloc[:-1] == 'PARTIALPAID') > 0,\n",
    "    'prev_paid_status'                  : lambda x: x['paid_status'].iloc[-2],\n",
    "    'mean_days_diff_payment_due_date'   : lambda x: np.mean((x['last_payment_date'].iloc[:-1] - x['due'].iloc[:-1]).astype('timedelta64[D]')),\n",
    "    'mean_days_diff_created_due_date'   : lambda x: np.mean((x['created_at'].iloc[:-1] - x['due'].iloc[:-1]).astype('timedelta64[D]')),\n",
    "    'number_credits'                    : lambda x: np.sum('credit' in x['description'].iloc[:-1].str.lower()),\n",
    "    'is_credits'                        : lambda x: np.sum('credit' in x['description'].iloc[:-1].str.lower()) > 0,\n",
    "    'n_descriptions'                    : lambda x: x['description'].iloc[:-1].unique().size,\n",
    "    'mean_score'                        : lambda x: np.mean(x['score'].iloc[:-1]) if x['score'].size > 1 else data['score'].iloc[-1],\n",
    "    \n",
    "    # target variables\n",
    "    #'paid_status'                       : lambda x: x['paid_status'].iloc[-1] == 'PAID',\n",
    "    'overdue'                           : lambda x: (x['last_payment_date'] - x['due']).astype('timedelta64[D]').iloc[-1] > 0 \\\n",
    "                                            if pd.notnull(x['last_payment_date'].iloc[-1]) else True,\n",
    "    'overdue_duration'                  : lambda x: (x['last_payment_date'] - x['due']).astype('timedelta64[D]').iloc[-1] if \\\n",
    "                                    (x['last_payment_date'] - x['due']).astype('timedelta64[D]').iloc[-1] > 0 else np.nan\n",
    "}"
   ]
  },
  {
   "cell_type": "code",
   "execution_count": 5,
   "metadata": {},
   "outputs": [],
   "source": [
    "SINGLE_INVOICE_FEATURES = ['days_diff_created_due_date', 'mean_score', 'paid_status', 'overdue', 'overdue_duration']\n",
    "\n",
    "\n",
    "def compute_features_for_single_customer(custdata):\n",
    "    features = list()\n",
    "    for ind in custdata.index:\n",
    "        subdata = custdata.loc[:ind, :]\n",
    "        features_names = SINGLE_INVOICE_FEATURES if subdata.shape[0] == 1 else list(features_funcs.keys())\n",
    "        subfeatures = dict((name, func(subdata)) for name, func in features_funcs.items() if name in features_names)\n",
    "        if features_names != SINGLE_INVOICE_FEATURES:\n",
    "            subfeatures['is_nan_feature_name'] = np.nan in subfeatures.values()\n",
    "        features.append(subfeatures)\n",
    "    return features\n",
    "\n",
    "\n",
    "def compute_features(data, n_customers=100):\n",
    "    all_features = list()\n",
    "    for i, (_, custdata) in tqdm(enumerate(data.groupby('customer_id'), 1), desc='Feature Computing'):\n",
    "        features = compute_features_for_single_customer(custdata)\n",
    "        all_features.extend(features)\n",
    "        if i >= n_customers:\n",
    "            break\n",
    "    return all_features"
   ]
  },
  {
   "cell_type": "code",
   "execution_count": 6,
   "metadata": {},
   "outputs": [],
   "source": [
    "def extract_targets(data_features):\n",
    "    features_classif = deepcopy(data_features)\n",
    "    features_regress, paid_status, overdue, overdue_duration = list(), list(), list(), list()\n",
    "    for x in features_classif:\n",
    "        paid_status.append(x['paid_status'])\n",
    "        x.pop('paid_status')\n",
    "        overdue.append(x['overdue'])\n",
    "        x.pop('overdue')\n",
    "        if np.isfinite(x['overdue_duration']):\n",
    "            features_regress.append(x)\n",
    "            overdue_duration.append(x['overdue_duration'])\n",
    "        x.pop('overdue_duration')\n",
    "    return features_classif, features_regress, paid_status, overdue, overdue_duration"
   ]
  },
  {
   "cell_type": "code",
   "execution_count": 10,
   "metadata": {},
   "outputs": [
    {
     "name": "stderr",
     "output_type": "stream",
     "text": [
      "\n",
      "Feature Computing: 0it [00:00, ?it/s]\n",
      "Feature Computing: 1it [00:00,  3.69it/s]\n",
      "Feature Computing: 2it [00:00,  3.77it/s]\n",
      "Feature Computing: 3it [00:01,  2.92it/s]\n",
      "Feature Computing: 4it [00:01,  3.02it/s]\n",
      "Feature Computing: 5it [00:01,  2.81it/s]\n",
      "Feature Computing: 6it [00:02,  2.77it/s]\n",
      "Feature Computing: 7it [00:02,  2.73it/s]\n",
      "Feature Computing: 8it [00:02,  2.70it/s]\n",
      "Feature Computing: 9it [00:03,  2.63it/s]\n",
      "Feature Computing: 10it [00:03,  2.63it/s]\n",
      "Feature Computing: 11it [00:04,  2.61it/s]\n",
      "Feature Computing: 12it [00:04,  2.60it/s]\n",
      "Feature Computing: 14it [00:04,  2.86it/s]\n",
      "Feature Computing: 15it [00:05,  2.83it/s]\n",
      "Feature Computing: 16it [00:05,  2.80it/s]\n",
      "Feature Computing: 17it [00:06,  2.76it/s]\n",
      "Feature Computing: 18it [00:06,  2.74it/s]\n",
      "Feature Computing: 19it [00:06,  2.80it/s]\n",
      "Feature Computing: 20it [00:07,  2.77it/s]\n",
      "Feature Computing: 21it [00:07,  2.74it/s]\n",
      "Feature Computing: 22it [00:07,  2.78it/s]\n",
      "Feature Computing: 23it [00:08,  2.81it/s]\n",
      "Feature Computing: 24it [00:08,  2.87it/s]\n",
      "Feature Computing: 25it [00:08,  2.84it/s]\n",
      "Feature Computing: 26it [00:08,  2.89it/s]\n",
      "Feature Computing: 27it [00:09,  2.88it/s]\n",
      "Feature Computing: 28it [00:09,  2.93it/s]\n",
      "Feature Computing: 11724it [1:11:09,  2.75it/s]\n"
     ]
    }
   ],
   "source": [
    "data_features = compute_features(data, n_customers=100000)"
   ]
  },
  {
   "cell_type": "code",
   "execution_count": 11,
   "metadata": {},
   "outputs": [],
   "source": [
    "# mean_days_diff_payment_due_date feature is NaN for some observations, so we replace them with mean\n",
    "mean_days_diff_due_payment = np.mean((data['last_payment_date'] - data['due']).astype('timedelta64[D]'))\n",
    "\n",
    "for feature in data_features:\n",
    "    if np.isnan(feature.get('mean_days_diff_payment_due_date', False)):\n",
    "        feature['mean_days_diff_payment_due_date'] = mean_days_diff_due_payment"
   ]
  },
  {
   "cell_type": "code",
   "execution_count": 12,
   "metadata": {},
   "outputs": [],
   "source": [
    "features_classif, features_regress, paid_status, overdue, overdue_duration = extract_targets(data_features)"
   ]
  },
  {
   "cell_type": "markdown",
   "metadata": {},
   "source": [
    "# Classification"
   ]
  },
  {
   "cell_type": "code",
   "execution_count": 104,
   "metadata": {},
   "outputs": [],
   "source": [
    "# paid_status_encoder = LabelEncoder()\n",
    "# paid_status_transf = paid_status_encoder.fit_transform(paid_status)\n",
    "\n",
    "overdue_encoder = LabelEncoder()\n",
    "overdue_transf = overdue_encoder.fit_transform(overdue)\n",
    "\n",
    "vectorizer = DictVectorizer()\n",
    "features_class_vect = vectorizer.fit_transform(features_classif)\n",
    "features_class_norm = normalize(features_class_vect, norm='l1', axis=1)"
   ]
  },
  {
   "cell_type": "markdown",
   "metadata": {},
   "source": [
    "### LogisticRegression"
   ]
  },
  {
   "cell_type": "code",
   "execution_count": 14,
   "metadata": {},
   "outputs": [],
   "source": [
    "lr = LogisticRegression()\n",
    "\n",
    "# cv_score = cross_val_score(lr, features_class_norm, paid_status_transf, scoring='roc_auc', cv=5)\n",
    "cv_score = cross_val_score(lr, features_class_norm, overdue_transf, scoring='roc_auc', cv=5)"
   ]
  },
  {
   "cell_type": "code",
   "execution_count": 15,
   "metadata": {},
   "outputs": [
    {
     "data": {
      "text/plain": [
       "'Mean ROC_AUC score: 0.824, std: 0.008'"
      ]
     },
     "execution_count": 15,
     "metadata": {},
     "output_type": "execute_result"
    }
   ],
   "source": [
    "'Mean ROC_AUC score: {:.3f}, std: {:.3f}'.format(np.mean(cv_score), np.std(cv_score))"
   ]
  },
  {
   "cell_type": "code",
   "execution_count": 16,
   "metadata": {},
   "outputs": [],
   "source": [
    "def print_feature_importance(feature_names, feature_importance):\n",
    "    feature_importance = feature_importance.tolist()\n",
    "    while isinstance([], type(feature_importance[0])):\n",
    "        feature_importance = feature_importance[0]\n",
    "    for feature, coef in sorted(zip(feature_names, feature_importance), key = lambda t: np.abs(t[1]), reverse=True):\n",
    "        print(feature + ':\\t' + str(coef))"
   ]
  },
  {
   "cell_type": "code",
   "execution_count": 17,
   "metadata": {},
   "outputs": [
    {
     "name": "stdout",
     "output_type": "stream",
     "text": [
      "days_diff_created_due_date:\t25.121511620301845\n",
      "mean_days_diff_created_due_date:\t-6.881244869004049\n",
      "number_paids:\t5.567470249925272\n",
      "is_nan_feature_name:\t-4.750356988563009\n",
      "mean_days_diff_payment_due_date:\t4.46176742182934\n",
      "ratio_days_diff_created_due_date:\t3.0850934634131857\n",
      "number_unpaids:\t-1.1914790837692033\n",
      "prev_paid_status=UNPAID:\t-0.6575751746665254\n",
      "n_descriptions:\t-0.6476620840007971\n",
      "ratio_required_total_to_mean_total:\t0.5847392077298492\n",
      "is_unpaids:\t-0.5747092381423313\n",
      "mean_score:\t-0.5539177616941587\n",
      "ratio_paids_to_unpaids:\t0.28091910290885175\n",
      "mean_ratio_total_paid:\t0.18301045420182302\n",
      "prev_paid_status=PAID:\t-0.14349281831245309\n",
      "prev_paid_status=PARTIAL:\t-0.11084229474702362\n",
      "is_credits:\t0.0\n",
      "is_partial_paids:\t0.0\n",
      "number_credits:\t0.0\n",
      "number_partialpaids:\t0.0\n"
     ]
    }
   ],
   "source": [
    "# lr.fit(features_normalized, paid_status_transf)\n",
    "lr.fit(features_class_norm, overdue_transf)\n",
    "    \n",
    "print_feature_importance(vectorizer.feature_names_, lr.coef_)"
   ]
  },
  {
   "cell_type": "markdown",
   "metadata": {},
   "source": [
    "### RandomForestClassifier"
   ]
  },
  {
   "cell_type": "code",
   "execution_count": 18,
   "metadata": {},
   "outputs": [
    {
     "data": {
      "text/plain": [
       "'Mean ROC_AUC score: 0.998, std: 0.003'"
      ]
     },
     "execution_count": 18,
     "metadata": {},
     "output_type": "execute_result"
    }
   ],
   "source": [
    "rfc = RandomForestClassifier(n_estimators=100, oob_score=True, random_state=0)\n",
    "\n",
    "# cv_score = cross_val_score(rfc, features_class_norm, paid_status_transf, scoring='roc_auc', cv=5)\n",
    "cv_score = cross_val_score(rfc, features_class_norm, overdue_transf, scoring='roc_auc', cv=5)\n",
    "\n",
    "'Mean ROC_AUC score: {:.3f}, std: {:.3f}'.format(np.mean(cv_score), np.std(cv_score))"
   ]
  },
  {
   "cell_type": "code",
   "execution_count": 19,
   "metadata": {},
   "outputs": [
    {
     "data": {
      "text/plain": [
       "RandomForestClassifier(bootstrap=True, class_weight=None, criterion='gini',\n",
       "            max_depth=None, max_features='auto', max_leaf_nodes=None,\n",
       "            min_impurity_split=1e-07, min_samples_leaf=1,\n",
       "            min_samples_split=2, min_weight_fraction_leaf=0.0,\n",
       "            n_estimators=100, n_jobs=1, oob_score=True, random_state=0,\n",
       "            verbose=0, warm_start=False)"
      ]
     },
     "execution_count": 19,
     "metadata": {},
     "output_type": "execute_result"
    }
   ],
   "source": [
    "# rf.fit(features_class_norm, paid_status_transf)\n",
    "rfc.fit(features_class_norm, overdue_transf)"
   ]
  },
  {
   "cell_type": "code",
   "execution_count": 20,
   "metadata": {},
   "outputs": [
    {
     "name": "stdout",
     "output_type": "stream",
     "text": [
      "is_nan_feature_name:\t0.48134652429888986\n",
      "days_diff_created_due_date:\t0.12411098662023563\n",
      "ratio_required_total_to_mean_total:\t0.07003936166980285\n",
      "ratio_paids_to_unpaids:\t0.06555938997585047\n",
      "mean_score:\t0.045910441534312924\n",
      "ratio_days_diff_created_due_date:\t0.04522650973138418\n",
      "mean_ratio_total_paid:\t0.04316259104113826\n",
      "mean_days_diff_payment_due_date:\t0.030524600412379282\n",
      "number_paids:\t0.025367563391151874\n",
      "n_descriptions:\t0.024035523529402292\n",
      "mean_days_diff_created_due_date:\t0.01925382427459137\n",
      "prev_paid_status=PAID:\t0.017710995604695894\n",
      "number_unpaids:\t0.003389922250703065\n",
      "is_unpaids:\t0.0021882749417804145\n",
      "prev_paid_status=UNPAID:\t0.001640208875710643\n",
      "prev_paid_status=PARTIAL:\t0.0005332818479709158\n",
      "is_credits:\t0.0\n",
      "is_partial_paids:\t0.0\n",
      "number_credits:\t0.0\n",
      "number_partialpaids:\t0.0\n"
     ]
    }
   ],
   "source": [
    "print_feature_importance(vectorizer.feature_names_, rfc.feature_importances_)"
   ]
  },
  {
   "cell_type": "markdown",
   "metadata": {},
   "source": [
    "### DecisionTreeClassifier visualization"
   ]
  },
  {
   "cell_type": "code",
   "execution_count": 21,
   "metadata": {},
   "outputs": [],
   "source": [
    "dtc = DecisionTreeClassifier(max_depth=3)\n",
    "cv_score = cross_val_score(dtc, features_class_norm, paid_status_transf, scoring='roc_auc', cv=5)"
   ]
  },
  {
   "cell_type": "code",
   "execution_count": 22,
   "metadata": {},
   "outputs": [
    {
     "data": {
      "text/plain": [
       "'Mean ROC_AUC score: 0.945, std: 0.025'"
      ]
     },
     "execution_count": 22,
     "metadata": {},
     "output_type": "execute_result"
    }
   ],
   "source": [
    "'Mean ROC_AUC score: {:.3f}, std: {:.3f}'.format(np.mean(cv_score), np.std(cv_score))"
   ]
  },
  {
   "cell_type": "code",
   "execution_count": 23,
   "metadata": {},
   "outputs": [
    {
     "name": "stdout",
     "output_type": "stream",
     "text": [
      "mean_ratio_total_paid:\t0.9094479638836641\n",
      "is_nan_feature_name:\t0.03601610558537152\n",
      "ratio_required_total_to_mean_total:\t0.026130616165452068\n",
      "prev_paid_status=PAID:\t0.020695931646430927\n",
      "ratio_days_diff_created_due_date:\t0.006433730158913884\n",
      "ratio_paids_to_unpaids:\t0.0012756525601673554\n",
      "days_diff_created_due_date:\t0.0\n",
      "is_credits:\t0.0\n",
      "is_partial_paids:\t0.0\n",
      "is_unpaids:\t0.0\n",
      "mean_days_diff_created_due_date:\t0.0\n",
      "mean_days_diff_payment_due_date:\t0.0\n",
      "mean_score:\t0.0\n",
      "n_descriptions:\t0.0\n",
      "number_credits:\t0.0\n",
      "number_paids:\t0.0\n",
      "number_partialpaids:\t0.0\n",
      "number_unpaids:\t0.0\n",
      "prev_paid_status=PARTIAL:\t0.0\n",
      "prev_paid_status=UNPAID:\t0.0\n"
     ]
    }
   ],
   "source": [
    "dtc.fit(features_normalized, paid_status_transf)\n",
    "print_feature_importance(vectorizer.feature_names_, dtc.feature_importances_)"
   ]
  },
  {
   "cell_type": "code",
   "execution_count": 24,
   "metadata": {},
   "outputs": [
    {
     "data": {
      "image/png": "[encoded data removed]",
      "text/plain": [
       "<IPython.core.display.Image object>"
      ]
     },
     "execution_count": 24,
     "metadata": {},
     "output_type": "execute_result"
    }
   ],
   "source": [
    "from IPython.display import Image\n",
    "import subprocess\n",
    "import os\n",
    "\n",
    "PNG_FILE = 'dt.png'\n",
    "DOT_FILE = 'dt.dot'\n",
    "PATH_TO_DOT = os.getcwd() + '\\\\graphviz-2.38\\\\bin\\\\'\n",
    "\n",
    "def visualize_tree(tree, feature_names):\n",
    "    with open(DOT_FILE, 'w') as f:\n",
    "        export_graphviz(tree, out_file=f,\n",
    "                        feature_names=feature_names)\n",
    "\n",
    "    command = [PATH_TO_DOT + 'dot', '-Tpng', DOT_FILE, '-o', PNG_FILE]\n",
    "    try:\n",
    "        subprocess.check_call(command)\n",
    "    except:\n",
    "        print(\"Could not run dot, ie graphviz, to \"\n",
    "             \"produce visualization\")\n",
    "        \n",
    "visualize_tree(dtc, vectorizer.feature_names_)\n",
    "Image(PNG_FILE)"
   ]
  },
  {
   "cell_type": "markdown",
   "metadata": {},
   "source": [
    "\n",
    "# Regression"
   ]
  },
  {
   "cell_type": "markdown",
   "metadata": {},
   "source": [
    "### basic error level"
   ]
  },
  {
   "cell_type": "code",
   "execution_count": 25,
   "metadata": {},
   "outputs": [],
   "source": [
    "data_overdue_dur = (data['last_payment_date'] - data['due']).astype('timedelta64[D]')\n",
    "median_overdue_dur = data_overdue_dur[data_overdue_dur > 0].median()"
   ]
  },
  {
   "cell_type": "code",
   "execution_count": 27,
   "metadata": {},
   "outputs": [
    {
     "data": {
      "text/plain": [
       "11.0"
      ]
     },
     "execution_count": 27,
     "metadata": {},
     "output_type": "execute_result"
    }
   ],
   "source": [
    "median_absolute_error(overdue_duration, [median_overdue_dur] * len(overdue_duration))"
   ]
  },
  {
   "cell_type": "markdown",
   "metadata": {},
   "source": [
    "## building regression models"
   ]
  },
  {
   "cell_type": "code",
   "execution_count": 108,
   "metadata": {},
   "outputs": [],
   "source": [
    "features_regress_vect = vectorizer.transform(features_regress)"
   ]
  },
  {
   "cell_type": "markdown",
   "metadata": {},
   "source": [
    "### LinearRegression"
   ]
  },
  {
   "cell_type": "code",
   "execution_count": 109,
   "metadata": {},
   "outputs": [
    {
     "data": {
      "text/plain": [
       "'MAE score: -9.088, std: 0.318'"
      ]
     },
     "execution_count": 109,
     "metadata": {},
     "output_type": "execute_result"
    }
   ],
   "source": [
    "lr = LinearRegression()\n",
    "\n",
    "cv_score = cross_val_score(lr, features_regress_vect, overdue_duration, scoring='neg_median_absolute_error', cv=5)\n",
    "\n",
    "'MAE score: {:.3f}, std: {:.3f}'.format(np.mean(cv_score), np.std(cv_score))"
   ]
  },
  {
   "cell_type": "markdown",
   "metadata": {},
   "source": [
    "### RandomForestRegressor"
   ]
  },
  {
   "cell_type": "code",
   "execution_count": 33,
   "metadata": {},
   "outputs": [
    {
     "data": {
      "text/plain": [
       "'MedianAE score: -4.500, std: 0.190'"
      ]
     },
     "execution_count": 33,
     "metadata": {},
     "output_type": "execute_result"
    }
   ],
   "source": [
    "rfr = RandomForestRegressor(random_state=0)\n",
    "cv_score = cross_val_score(rfr, features_regress_vect, overdue_duration, scoring='neg_median_absolute_error', cv=5)\n",
    "'MedianAE score: {:.3f}, std: {:.3f}'.format(np.mean(cv_score), np.std(cv_score))"
   ]
  },
  {
   "cell_type": "code",
   "execution_count": 34,
   "metadata": {},
   "outputs": [
    {
     "data": {
      "text/plain": [
       "RandomForestRegressor(bootstrap=True, criterion='mse', max_depth=None,\n",
       "           max_features='auto', max_leaf_nodes=None,\n",
       "           min_impurity_split=1e-07, min_samples_leaf=1,\n",
       "           min_samples_split=2, min_weight_fraction_leaf=0.0,\n",
       "           n_estimators=10, n_jobs=1, oob_score=False, random_state=0,\n",
       "           verbose=0, warm_start=False)"
      ]
     },
     "execution_count": 34,
     "metadata": {},
     "output_type": "execute_result"
    }
   ],
   "source": [
    "rfr.fit(features_regress_vect, overdue_duration)"
   ]
  },
  {
   "cell_type": "code",
   "execution_count": 35,
   "metadata": {},
   "outputs": [
    {
     "data": {
      "text/plain": [
       "'Real: 20.000, Predicted: 18.200'"
      ]
     },
     "execution_count": 35,
     "metadata": {},
     "output_type": "execute_result"
    }
   ],
   "source": [
    "i = 1125\n",
    "'Real: {:.3f}, Predicted: {:.3f}'.format(overdue_duration[i], rfr.predict(features_regress_vect[i])[0])"
   ]
  },
  {
   "cell_type": "markdown",
   "metadata": {},
   "source": [
    "# Predictive model"
   ]
  },
  {
   "cell_type": "code",
   "execution_count": 214,
   "metadata": {},
   "outputs": [],
   "source": [
    "SINGLE_INVOICE_FEATURES = ['days_diff_created_due_date', 'mean_score', 'paid_status', 'overdue', 'overdue_duration']\n",
    "\n",
    "def check_if_single_entry(f):\n",
    "    def wrapped(x):\n",
    "        if x.shape[0] == 1:\n",
    "            features_names = SINGLE_INVOICE_FEATURES\n",
    "        else:\n",
    "            features_names = list(features_funcs.keys())\n",
    "        return f(x, features_names)\n",
    "    return wrapped\n",
    "\n",
    "\n",
    "@check_if_single_entry\n",
    "def features_calculator(data, features_names):\n",
    "    features = dict((name, func(data)) for name, func in features_funcs.items() if name in features_names)\n",
    "    if features_names != SINGLE_INVOICE_FEATURES:\n",
    "        features['is_nan_feature_name'] = np.nan in features.values()\n",
    "    return features\n",
    "\n",
    "\n",
    "def predictor(input, data, vectorizer, classifier, regressor):\n",
    "    # appending with historical data\n",
    "    cust_data = pd.concat([data[data['customer_id'].isin(list(input['customer_id']))], input])\n",
    "    \n",
    "    print(cust_data)\n",
    "    \n",
    "    # calculating features\n",
    "    input_features = features_calculator(cust_data)\n",
    "    \n",
    "    \n",
    "    input_features = extract_targets([input_features])[0]\n",
    "    \n",
    "    features_vect = vectorizer.transform(input_features)\n",
    "    features_norm = normalize(features_vect, norm='l1', axis=1)\n",
    "    \n",
    "    \n",
    "    # predicting\n",
    "    is_overdue = classifier.predict(features_norm)[0]\n",
    "    \n",
    "    res = dict(overdue=is_overdue)\n",
    "    if is_overdue:\n",
    "        overdue_dur = np.round(regressor.predict(features_vectorized)[0])\n",
    "        res.update(dict(payment_at=input['due'].iloc[0] + pd.DateOffset(days=overdue_dur)))\n",
    "    return res"
   ]
  },
  {
   "cell_type": "code",
   "execution_count": 218,
   "metadata": {},
   "outputs": [
    {
     "name": "stdout",
     "output_type": "stream",
     "text": [
      "                 created_at     created_at_cust currency customer_id  \\\n",
      "3008727 2016-01-08 18:34:10 2017-11-09 15:20:25      USD     1857271   \n",
      "3076422 2016-02-07 11:15:13 2017-11-09 15:20:25      USD     1857271   \n",
      "3058977 2016-03-14 15:54:10 2017-11-09 15:20:25      USD     1857271   \n",
      "3064452 2016-04-11 08:59:13 2017-11-09 15:20:25      USD     1857271   \n",
      "3011492 2016-05-15 15:29:15 2017-11-09 15:20:25      USD     1857271   \n",
      "3017877 2016-06-12 16:13:44 2017-11-09 15:20:25      USD     1857271   \n",
      "3032351 2016-07-14 10:50:54 2017-11-09 15:20:25      USD     1857271   \n",
      "3068078 2016-08-07 16:35:43 2017-11-09 15:20:25      USD     1857271   \n",
      "3037807 2016-09-13 14:58:18 2017-11-09 15:20:25      USD     1857271   \n",
      "3024128 2016-09-13 15:24:08 2017-11-09 15:20:25      USD     1857271   \n",
      "3017038 2016-10-10 10:03:14 2017-11-09 15:20:25      USD     1857271   \n",
      "3091541 2016-11-09 09:49:28 2017-11-09 15:20:25      USD     1857271   \n",
      "3501701 2016-12-06 13:54:57 2017-11-09 15:20:25      USD     1857271   \n",
      "3772237 2017-01-11 13:55:55 2017-11-09 15:20:25      USD     1857271   \n",
      "3938193 2017-02-08 14:30:42 2017-11-09 15:20:25      USD     1857271   \n",
      "4157861 2017-03-12 09:56:43 2017-11-09 15:20:25      USD     1857271   \n",
      "4951234 2017-07-18 10:14:02 2017-11-09 15:20:25      USD     1857271   \n",
      "\n",
      "                                               description        due  \\\n",
      "3008727  company_name Premier Dealer - New Country Ford... 2016-01-09   \n",
      "3076422  company_name Premier Dealer - New Country Ford... 2016-02-09   \n",
      "3058977  company_name Premier Dealer - New Country Ford... 2016-03-09   \n",
      "3064452  company_name Premier Dealer - New Country Suba... 2016-04-08   \n",
      "3011492  company_name Premier Dealer - New Country Ford... 2016-05-09   \n",
      "3017877  company_name Premier Dealer - New Country Ford... 2016-06-09   \n",
      "3032351  company_name Premier Dealer - New Country Ford... 2016-07-09   \n",
      "3068078  company_name Premier Dealer - New Country Ford... 2016-08-09   \n",
      "3037807     company_name Premier Dealer - New Country Ford 2016-09-09   \n",
      "3024128  company_name Premier Dealer - New Country Ford... 2016-09-09   \n",
      "3017038  company_name Premier Dealer - New Country Suba... 2016-10-09   \n",
      "3091541  company_name Premier Dealer - New Country Ford... 2016-11-09   \n",
      "3501701  company_name Premier Dealer - New Country Ford... 2016-12-09   \n",
      "3772237  company_name Premier Dealer - New Country Ford... 2017-01-09   \n",
      "3938193  company_name Premier Dealer - New Country Suba... 2017-02-09   \n",
      "4157861  company_name Premier Dealer - New Country Ford... 2017-03-09   \n",
      "4951234     company_name Premier Dealer - New Country Ford 2017-07-21   \n",
      "\n",
      "        exchange_rate   last_payment_date    paid paid_status score  \\\n",
      "3008727             1 2016-01-26 00:00:00  120.96        PAID    90   \n",
      "3076422             1 2016-02-07 11:15:13       0        PAID    90   \n",
      "3058977             1 2016-03-14 15:54:10       0        PAID    90   \n",
      "3064452             1 2016-04-11 08:59:13       0        PAID    90   \n",
      "3011492             1 2016-05-15 15:29:15       0        PAID    90   \n",
      "3017877             1 2016-06-12 16:13:44       0        PAID    90   \n",
      "3032351             1 2016-07-14 10:50:54       0        PAID    90   \n",
      "3068078             1 2016-08-07 16:35:43       0        PAID    90   \n",
      "3037807             1 2016-09-22 00:00:00  168.39        PAID    90   \n",
      "3024128             1 2016-09-22 00:00:00     600        PAID    90   \n",
      "3017038             1 2016-12-01 00:00:00     400     PARTIAL    90   \n",
      "3091541             1 2016-11-09 09:49:28       0        PAID    90   \n",
      "3501701             1 2016-12-06 13:54:57       0        PAID    90   \n",
      "3772237             1 2017-01-11 13:55:55       0        PAID    90   \n",
      "3938193             1 2017-02-08 14:30:42       0        PAID    90   \n",
      "4157861             1 2017-03-12 09:56:43       0        PAID    90   \n",
      "4951234             1                 NaT     NaN                90   \n",
      "\n",
      "        source_system  tax   total  \n",
      "3008727           FTP    0  120.96  \n",
      "3076422           FTP  NaN       0  \n",
      "3058977           FTP  NaN       0  \n",
      "3064452           FTP  NaN       0  \n",
      "3011492           FTP  NaN       0  \n",
      "3017877           FTP  NaN       0  \n",
      "3032351           FTP  NaN       0  \n",
      "3068078           FTP  NaN       0  \n",
      "3037807           FTP    0  168.39  \n",
      "3024128           FTP    0     600  \n",
      "3017038           FTP    0     600  \n",
      "3091541           FTP  NaN       0  \n",
      "3501701           FTP  NaN       0  \n",
      "3772237           FTP  NaN       0  \n",
      "3938193           FTP  NaN       0  \n",
      "4157861           FTP  NaN       0  \n",
      "4951234           FTP    0     120  \n",
      "{'overdue': 0}\n"
     ]
    }
   ],
   "source": [
    "input = pd.DataFrame.from_dict({4951234: {\n",
    "     'customer_id': 1857271, \n",
    "     'created_at': '2017-07-18 10:14:02', \n",
    "     'due': '2017-07-21 00:00:00', \n",
    "     'last_payment_date': pd.NaT, \n",
    "     'paid_status': '', \n",
    "     'total': 120.0, \n",
    "     'paid': np.nan, \n",
    "     'tax': 0.0, \n",
    "     'currency': 'USD', \n",
    "     'exchange_rate': 1.0, \n",
    "     'source_system': 'FTP', \n",
    "     'description': 'company_name Premier Dealer - New Country Ford', \n",
    "     'created_at_cust': '2017-11-09 15:20:25', \n",
    "     'score': 90}}).T\n",
    "\n",
    "for col in ['created_at', 'due', 'last_payment_date', 'created_at_cust']:\n",
    "    input[col] = pd.to_datetime(input[col], errors='coerce')\n",
    "\n",
    "print(predictor(input, data, vectorizer, rfc, rfr))"
   ]
  },
  {
   "cell_type": "code",
   "execution_count": 217,
   "metadata": {},
   "outputs": [
    {
     "name": "stdout",
     "output_type": "stream",
     "text": [
      "                 created_at     created_at_cust currency customer_id  \\\n",
      "3003479 2016-01-12 12:48:29 2017-11-09 15:20:25      USD     1856263   \n",
      "3042757 2016-01-12 12:54:14 2017-11-09 15:20:25      USD     1856263   \n",
      "3034474 2016-02-07 14:27:21 2017-11-09 15:20:25      USD     1856263   \n",
      "3082871 2016-02-07 14:27:21 2017-11-09 15:20:25      USD     1856263   \n",
      "3009732 2016-02-07 14:32:13 2017-11-09 15:20:25      USD     1856263   \n",
      "3000708 2016-02-07 14:32:13 2017-11-09 15:20:25      USD     1856263   \n",
      "3025867 2016-03-10 11:14:30 2017-11-09 15:20:25      USD     1856263   \n",
      "3057799 2016-03-10 11:14:30 2017-11-09 15:20:25      USD     1856263   \n",
      "3080260 2016-03-10 11:32:58 2017-11-09 15:20:25      USD     1856263   \n",
      "3067899 2016-03-10 11:37:43 2017-11-09 15:20:25      USD     1856263   \n",
      "3006607 2016-03-10 11:37:43 2017-11-09 15:20:25      USD     1856263   \n",
      "3053397 2016-03-10 14:18:35 2017-11-09 15:20:25      USD     1856263   \n",
      "3066367 2016-03-13 10:10:55 2017-11-09 15:20:25      USD     1856263   \n",
      "3014797 2016-04-11 11:54:11 2017-11-09 15:20:25      USD     1856263   \n",
      "3000585 2016-04-11 11:55:11 2017-11-09 15:20:25      USD     1856263   \n",
      "3049944 2016-05-09 13:27:17 2017-11-09 15:20:25      USD     1856263   \n",
      "3017659 2016-05-09 13:45:16 2017-11-09 15:20:25      USD     1856263   \n",
      "3072124 2016-06-14 14:34:55 2017-11-09 15:20:25      USD     1856263   \n",
      "3077293 2016-06-14 14:34:55 2017-11-09 15:20:25      USD     1856263   \n",
      "3031167 2016-07-13 16:19:39 2017-11-09 15:20:25      USD     1856263   \n",
      "3080580 2016-07-13 16:19:39 2017-11-09 15:20:25      USD     1856263   \n",
      "3007369 2016-08-14 10:08:37 2017-11-09 15:20:25      USD     1856263   \n",
      "3081306 2016-08-14 10:08:37 2017-11-09 15:20:25      USD     1856263   \n",
      "3047327 2016-09-15 17:23:09 2017-11-09 15:20:25      USD     1856263   \n",
      "3038970 2016-09-15 17:23:09 2017-11-09 15:20:25      USD     1856263   \n",
      "3001640 2016-10-10 09:28:50 2017-11-09 15:20:25      USD     1856263   \n",
      "3070842 2016-10-13 13:22:14 2017-11-09 15:20:25      USD     1856263   \n",
      "3019708 2016-10-13 13:27:57 2017-11-09 15:20:25      USD     1856263   \n",
      "3000529 2016-10-16 14:19:05 2017-11-09 15:20:25      USD     1856263   \n",
      "3092184 2016-11-09 09:49:28 2017-11-09 15:20:25      USD     1856263   \n",
      "3506989 2016-12-06 13:42:06 2017-11-09 15:20:25      USD     1856263   \n",
      "3505104 2016-12-06 13:54:57 2017-11-09 15:20:25      USD     1856263   \n",
      "3773730 2017-01-11 13:55:55 2017-11-09 15:20:25      USD     1856263   \n",
      "3935183 2017-02-12 15:16:28 2017-11-09 15:20:25      USD     1856263   \n",
      "3940028 2017-02-12 15:17:16 2017-11-09 15:20:25      USD     1856263   \n",
      "4162028 2017-03-19 11:24:45 2017-11-09 15:20:25      USD     1856263   \n",
      "4162048 2017-03-19 11:24:45 2017-11-09 15:20:25      USD     1856263   \n",
      "4951235 2017-04-01 11:24:45 2017-11-09 15:20:25      USD     1856263   \n",
      "\n",
      "                                               description        due  \\\n",
      "3003479  company_name Premier Dealer - Richmond BMW of ... 2016-01-02   \n",
      "3042757  company_name Premier Dealer - Richmond BMW of ... 2016-01-02   \n",
      "3034474  Proration for Partial Month Live - Plaza Jagua... 2016-02-02   \n",
      "3082871  company_name Premier Dealer - Richmond BMW of ... 2016-02-02   \n",
      "3009732  company_name Premier Dealer - Crown Acura Rich... 2016-02-02   \n",
      "3000708  Proration for Partial Month Live - Plaza Land ... 2016-02-02   \n",
      "3025867  company_name Premier Dealer - Crown Acura Rich... 2016-03-02   \n",
      "3057799  Proration for Partial Month Live - Nalley Niss... 2016-03-02   \n",
      "3080260                 Proration for Partial Month Live - 2016-03-02   \n",
      "3067899  company_name Premier Dealer - David McDavid Ho... 2016-03-02   \n",
      "3006607  Proration for Partial Month Live - Audi West H... 2016-03-02   \n",
      "3053397  Proration for Partial Month Live - Audi West H... 2016-03-02   \n",
      "3066367                     PDP Tier III - Premier Listing 2016-03-13   \n",
      "3014797  company_name Premier Dealer - Nalley Ford Sand... 2016-04-02   \n",
      "3000585  Proration for Partial Month Live - Hare Chevro... 2016-04-02   \n",
      "3049944  Proration for Partial Month Live - Nalley Hyun... 2016-05-02   \n",
      "3017659  company_name Premier Dealer - Greenville Luxur... 2016-05-02   \n",
      "3072124  Proration for Partial Month Live - Nalley BMW ... 2016-06-02   \n",
      "3077293  company_name Premier Dealer - Nalley INFINITI ... 2016-06-02   \n",
      "3031167  Proration for Partial Month Live - Nalley INFI... 2016-07-02   \n",
      "3080580  company_name Premier Dealer - Hare Chevrolet -... 2016-07-02   \n",
      "3007369  company_name Premier Dealer - Nalley Nissan of... 2016-08-02   \n",
      "3081306  Proration for Partial Month Live - Gray-Daniel... 2016-08-02   \n",
      "3047327  company_name Premier Dealer - Coggin Honda of ... 2016-09-02   \n",
      "3038970  Proration for Partial Month Live - Nalley Lexu... 2016-09-02   \n",
      "3001640  company_name Premier Dealer - Coggin Honda com... 2016-10-02   \n",
      "3070842  Proration for Partial Month Live - Nalley Volk... 2016-10-02   \n",
      "3019708  company_name Premier Dealer - Nalley Nissan of... 2016-10-02   \n",
      "3000529  Hurricane Irma Credit - Coggin Acura Hurricane... 2016-10-01   \n",
      "3092184  company_name Premier Dealer - Nalley Nissan of... 2016-12-02   \n",
      "3506989  company_name Premier Dealer - Nalley Nissan At... 2016-12-02   \n",
      "3505104  Coggin Honda of Orlando National company_name ... 2017-01-02   \n",
      "3773730  company_name Premier Dealer - Nalley Kia compa... 2017-02-02   \n",
      "3935183  company_name Premier Dealer - Hare Honda compa... 2017-02-02   \n",
      "3940028  company_name Premier Dealer - Plaza Audi compa... 2017-03-02   \n",
      "4162028  company_name Premier Dealer - Coggin DeLand Fo... 2017-03-02   \n",
      "4162048  company_name Premier Dealer - Courtesy Kia of ... 2017-03-02   \n",
      "4951235         company_name Premier Dealer - Richmond BMW 2017-04-02   \n",
      "\n",
      "        exchange_rate   last_payment_date     paid paid_status score  \\\n",
      "3003479             1 2016-01-12 12:48:29        0        PAID    90   \n",
      "3042757             1 2016-02-13 00:00:00  57445.7        PAID    90   \n",
      "3034474             1 2016-03-06 00:00:00   137.03        PAID    90   \n",
      "3082871             1 2016-03-06 00:00:00  57899.7        PAID    90   \n",
      "3009732             1 2016-02-07 14:32:13        0        PAID    90   \n",
      "3000708             1 2016-03-06 00:00:00    38.71        PAID    90   \n",
      "3025867             1 2016-03-10 11:14:30        0        PAID    90   \n",
      "3057799             1 2016-04-10 00:00:00   243.75        PAID    90   \n",
      "3080260             1 2016-04-10 00:00:00   104.46        PAID    90   \n",
      "3067899             1 2016-04-10 00:00:00  58649.7        PAID    90   \n",
      "3006607             1 2016-03-10 11:37:43        0        PAID    90   \n",
      "3053397             1 2016-03-10 14:18:35        0        PAID    90   \n",
      "3066367             1 2016-03-13 00:00:00  -168.13        PAID    90   \n",
      "3014797             1 2016-05-31 00:00:00  59806.5        PAID    90   \n",
      "3000585             1 2016-05-31 00:00:00   335.86        PAID    90   \n",
      "3049944             1 2016-05-09 13:27:17        0        PAID    90   \n",
      "3017659             1 2016-07-03 00:00:00  59806.5        PAID    90   \n",
      "3072124             1 2016-06-14 14:34:55        0        PAID    90   \n",
      "3077293             1 2016-07-17 00:00:00  59806.5        PAID    90   \n",
      "3031167             1 2016-08-21 00:00:00   1920.5        PAID    90   \n",
      "3080580             1 2016-08-21 00:00:00  61312.2        PAID    90   \n",
      "3007369             1 2016-10-10 00:00:00  53737.1     PARTIAL    90   \n",
      "3081306             1 2016-08-14 10:08:37        0        PAID    90   \n",
      "3047327             1 2016-10-16 00:00:00  48520.6     PARTIAL    90   \n",
      "3038970             1 2016-09-15 17:23:09        0        PAID    90   \n",
      "3001640             1 2016-10-10 09:28:50        0        PAID    90   \n",
      "3070842             1 2016-10-13 13:22:14        0        PAID    90   \n",
      "3019708             1 2016-10-13 13:27:57  56236.2     PARTIAL    90   \n",
      "3000529             1 2016-10-01 00:00:00 -3942.13        PAID    90   \n",
      "3092184             1 2017-01-29 00:00:00  58076.3        PAID    90   \n",
      "3506989             1 2016-12-06 13:42:06        0        PAID    90   \n",
      "3505104             1 2017-01-29 00:00:00  57327.3        PAID    90   \n",
      "3773730             1 2017-03-12 00:00:00  57327.3        PAID    90   \n",
      "3935183             1                 NaT        0      UNPAID    90   \n",
      "3940028             1                 NaT        0      UNPAID    90   \n",
      "4162028             1                 NaT        0      UNPAID    90   \n",
      "4162048             1                 NaT        0      UNPAID    90   \n",
      "4951235             1                 NaT      NaN                90   \n",
      "\n",
      "        source_system  tax    total  \n",
      "3003479           FTP  NaN        0  \n",
      "3042757           FTP    0  57445.7  \n",
      "3034474           FTP    0   137.03  \n",
      "3082871           FTP    0  57899.7  \n",
      "3009732           FTP  NaN        0  \n",
      "3000708           FTP    0    38.71  \n",
      "3025867           FTP  NaN        0  \n",
      "3057799           FTP    0   243.75  \n",
      "3080260           FTP    0   104.46  \n",
      "3067899           FTP    0  58649.7  \n",
      "3006607           FTP  NaN        0  \n",
      "3053397           FTP  NaN        0  \n",
      "3066367           FTP  NaN  -168.13  \n",
      "3014797           FTP    0  59806.5  \n",
      "3000585           FTP    0   335.86  \n",
      "3049944           FTP  NaN        0  \n",
      "3017659           FTP    0  59806.5  \n",
      "3072124           FTP  NaN        0  \n",
      "3077293           FTP    0  59806.5  \n",
      "3031167           FTP    0   1920.5  \n",
      "3080580           FTP    0  61312.2  \n",
      "3007369           FTP    0  54032.5  \n",
      "3081306           FTP  NaN        0  \n",
      "3047327           FTP    0  51842.9  \n",
      "3038970           FTP  NaN        0  \n",
      "3001640           FTP  NaN        0  \n",
      "3070842           FTP  NaN        0  \n",
      "3019708           FTP    0  57095.7  \n",
      "3000529           FTP  NaN -3942.13  \n",
      "3092184           FTP    0  58076.3  \n",
      "3506989           FTP  NaN        0  \n",
      "3505104           FTP    0  57327.3  \n",
      "3773730           FTP    0  57327.3  \n",
      "3935183           FTP    0  1130.84  \n",
      "3940028           FTP    0  59374.3  \n",
      "4162028           FTP    0  62139.9  \n",
      "4162048           FTP    0   724.11  \n",
      "4951235           FTP    0    32401  \n",
      "\n",
      " {'overdue': 1, 'payment_at': Timestamp('2017-04-16 00:00:00')}\n"
     ]
    }
   ],
   "source": [
    "input = pd.DataFrame.from_dict({4951235: {\n",
    "     'customer_id': 1856263, \n",
    "     'created_at': '2017-04-01 11:24:45', \n",
    "     'due': '2017-04-02', \n",
    "     'last_payment_date': pd.NaT, \n",
    "     'paid_status': '', \n",
    "     'total': 32401.0, \n",
    "     'paid': np.nan, \n",
    "     'tax': 0.0, \n",
    "     'currency': 'USD', \n",
    "     'exchange_rate': 1.0, \n",
    "     'source_system': 'FTP', \n",
    "     'description': 'company_name Premier Dealer - Richmond BMW', \n",
    "     'created_at_cust': '2017-11-09 15:20:25', \n",
    "     'score': 90}}).T\n",
    "\n",
    "for col in ['created_at', 'due', 'last_payment_date', 'created_at_cust']:\n",
    "    input[col] = pd.to_datetime(input[col], errors='coerce')\n",
    "\n",
    "print('\\n', predictor(input, data, vectorizer, rfc, rfr))"
   ]
  },
  {
   "cell_type": "markdown",
   "metadata": {},
   "source": [
    "# PLOTS"
   ]
  },
  {
   "cell_type": "code",
   "execution_count": 280,
   "metadata": {},
   "outputs": [],
   "source": [
    "is_unpaid = data.groupby('customer_id').agg({'score': max, \n",
    "                                   'paid_status': lambda x: 1 * (np.sum(x == 'UNPAID') > 0) + np.random.randn(1) * 0.05})"
   ]
  },
  {
   "cell_type": "code",
   "execution_count": 281,
   "metadata": {},
   "outputs": [
    {
     "data": {
      "text/plain": [
       "<matplotlib.axes._subplots.AxesSubplot at 0x18f18730>"
      ]
     },
     "execution_count": 281,
     "metadata": {},
     "output_type": "execute_result"
    },
    {
     "data": {
      "image/png": "[encoded data removed]",
      "text/plain": [
       "<matplotlib.figure.Figure at 0x128a3670>"
      ]
     },
     "metadata": {},
     "output_type": "display_data"
    }
   ],
   "source": [
    "is_unpaid.plot.scatter(x='score', y='paid_status', alpha=0.3, figsize=(20, 10))"
   ]
  },
  {
   "cell_type": "code",
   "execution_count": 282,
   "metadata": {},
   "outputs": [],
   "source": [
    "number_unpaids = data.groupby('customer_id').agg({'score': max, 'paid_status': lambda x: np.sum(x == 'UNPAID')})"
   ]
  },
  {
   "cell_type": "code",
   "execution_count": 284,
   "metadata": {},
   "outputs": [
    {
     "data": {
      "text/plain": [
       "array([[<matplotlib.axes._subplots.AxesSubplot object at 0x132FFF90>,\n",
       "        <matplotlib.axes._subplots.AxesSubplot object at 0x18E50350>]],\n",
       "      dtype=object)"
      ]
     },
     "execution_count": 284,
     "metadata": {},
     "output_type": "execute_result"
    },
    {
     "data": {
      "image/png": "[encoded data removed]",
      "text/plain": [
       "<matplotlib.figure.Figure at 0x12d53990>"
      ]
     },
     "metadata": {},
     "output_type": "display_data"
    }
   ],
   "source": [
    "number_unpaids.hist(bins=20, figsize=(20, 5))"
   ]
  },
  {
   "cell_type": "code",
   "execution_count": 285,
   "metadata": {},
   "outputs": [
    {
     "data": {
      "text/plain": [
       "<matplotlib.axes._subplots.AxesSubplot at 0x1c743310>"
      ]
     },
     "execution_count": 285,
     "metadata": {},
     "output_type": "execute_result"
    },
    {
     "data": {
      "image/png": "[encoded data removed]",
      "text/plain": [
       "<matplotlib.figure.Figure at 0x12886710>"
      ]
     },
     "metadata": {},
     "output_type": "display_data"
    }
   ],
   "source": [
    "number_unpaids.plot.scatter(x='score', y='paid_status', figsize=(20,10))"
   ]
  },
  {
   "cell_type": "code",
   "execution_count": 288,
   "metadata": {},
   "outputs": [],
   "source": [
    "n_customers = data['customer_id'].unique().size"
   ]
  },
  {
   "cell_type": "code",
   "execution_count": 289,
   "metadata": {},
   "outputs": [
    {
     "data": {
      "text/plain": [
       "0.29000341180484474"
      ]
     },
     "execution_count": 289,
     "metadata": {},
     "output_type": "execute_result"
    }
   ],
   "source": [
    "number_unpaids[number_unpaids['paid_status'] > 1].size / n_customers"
   ]
  },
  {
   "cell_type": "code",
   "execution_count": 286,
   "metadata": {},
   "outputs": [
    {
     "data": {
      "text/plain": [
       "<matplotlib.axes._subplots.AxesSubplot at 0x1c7ef710>"
      ]
     },
     "execution_count": 286,
     "metadata": {},
     "output_type": "execute_result"
    },
    {
     "data": {
      "image/png": "[encoded data removed]",
      "text/plain": [
       "<matplotlib.figure.Figure at 0x1c7fa0f0>"
      ]
     },
     "metadata": {},
     "output_type": "display_data"
    }
   ],
   "source": [
    "data_overdue_dur = (data['last_payment_date'] - data['due']).astype('timedelta64[D]')\n",
    "data_overdue_dur[data_overdue_dur > 0].hist(bins=200, figsize=(20, 10))"
   ]
  },
  {
   "cell_type": "code",
   "execution_count": 290,
   "metadata": {},
   "outputs": [
    {
     "data": {
      "text/plain": [
       "17.0"
      ]
     },
     "execution_count": 290,
     "metadata": {},
     "output_type": "execute_result"
    }
   ],
   "source": [
    "data_overdue_dur[data_overdue_dur > 0].median()"
   ]
  }
 ],
 "metadata": {
  "kernelspec": {
   "display_name": "Python 3",
   "language": "python",
   "name": "python3"
  },
  "language_info": {
   "codemirror_mode": {
    "name": "ipython",
    "version": 3
   },
   "file_extension": ".py",
   "mimetype": "text/x-python",
   "name": "python",
   "nbconvert_exporter": "python",
   "pygments_lexer": "ipython3",
   "version": "3.6.1"
  }
 },
 "nbformat": 4,
 "nbformat_minor": 2
}
